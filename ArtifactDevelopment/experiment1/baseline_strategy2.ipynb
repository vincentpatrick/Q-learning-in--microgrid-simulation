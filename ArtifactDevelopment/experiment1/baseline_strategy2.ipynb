{
  "nbformat": 4,
  "nbformat_minor": 0,
  "metadata": {
    "colab": {
      "name": "baseline_strategy2.ipynb",
      "provenance": [],
      "collapsed_sections": []
    },
    "kernelspec": {
      "name": "python3",
      "display_name": "Python 3"
    },
    "language_info": {
      "name": "python"
    }
  },
  "cells": [
    {
      "cell_type": "code",
      "metadata": {
        "colab": {
          "base_uri": "https://localhost:8080/"
        },
        "id": "2msj14p7VWj8",
        "outputId": "a4754a13-a95d-4641-cadc-8ebe51bb412d"
      },
      "source": [
        "pip install git+https://github.com/Total-RD/pymgrid/"
      ],
      "execution_count": 1,
      "outputs": [
        {
          "output_type": "stream",
          "name": "stdout",
          "text": [
            "Collecting git+https://github.com/Total-RD/pymgrid/\n",
            "  Cloning https://github.com/Total-RD/pymgrid/ to /tmp/pip-req-build-d7ra799b\n",
            "  Running command git clone -q https://github.com/Total-RD/pymgrid/ /tmp/pip-req-build-d7ra799b\n",
            "Requirement already satisfied: requests in /usr/local/lib/python3.7/dist-packages (from pymgrid==0.1.0) (2.23.0)\n",
            "Requirement already satisfied: pandas in /usr/local/lib/python3.7/dist-packages (from pymgrid==0.1.0) (1.1.5)\n",
            "Requirement already satisfied: numpy in /usr/local/lib/python3.7/dist-packages (from pymgrid==0.1.0) (1.19.5)\n",
            "Requirement already satisfied: cvxpy in /usr/local/lib/python3.7/dist-packages (from pymgrid==0.1.0) (1.0.31)\n",
            "Requirement already satisfied: statsmodels in /usr/local/lib/python3.7/dist-packages (from pymgrid==0.1.0) (0.10.2)\n",
            "Requirement already satisfied: matplotlib in /usr/local/lib/python3.7/dist-packages (from pymgrid==0.1.0) (3.2.2)\n",
            "Requirement already satisfied: plotly in /usr/local/lib/python3.7/dist-packages (from pymgrid==0.1.0) (4.4.1)\n",
            "Requirement already satisfied: cufflinks in /usr/local/lib/python3.7/dist-packages (from pymgrid==0.1.0) (0.17.3)\n",
            "Requirement already satisfied: gym in /usr/local/lib/python3.7/dist-packages (from pymgrid==0.1.0) (0.17.3)\n",
            "Requirement already satisfied: ipython>=5.3.0 in /usr/local/lib/python3.7/dist-packages (from cufflinks->pymgrid==0.1.0) (5.5.0)\n",
            "Requirement already satisfied: setuptools>=34.4.1 in /usr/local/lib/python3.7/dist-packages (from cufflinks->pymgrid==0.1.0) (57.4.0)\n",
            "Requirement already satisfied: six>=1.9.0 in /usr/local/lib/python3.7/dist-packages (from cufflinks->pymgrid==0.1.0) (1.15.0)\n",
            "Requirement already satisfied: ipywidgets>=7.0.0 in /usr/local/lib/python3.7/dist-packages (from cufflinks->pymgrid==0.1.0) (7.6.5)\n",
            "Requirement already satisfied: colorlover>=0.2.1 in /usr/local/lib/python3.7/dist-packages (from cufflinks->pymgrid==0.1.0) (0.3.0)\n",
            "Requirement already satisfied: decorator in /usr/local/lib/python3.7/dist-packages (from ipython>=5.3.0->cufflinks->pymgrid==0.1.0) (4.4.2)\n",
            "Requirement already satisfied: pygments in /usr/local/lib/python3.7/dist-packages (from ipython>=5.3.0->cufflinks->pymgrid==0.1.0) (2.6.1)\n",
            "Requirement already satisfied: simplegeneric>0.8 in /usr/local/lib/python3.7/dist-packages (from ipython>=5.3.0->cufflinks->pymgrid==0.1.0) (0.8.1)\n",
            "Requirement already satisfied: pickleshare in /usr/local/lib/python3.7/dist-packages (from ipython>=5.3.0->cufflinks->pymgrid==0.1.0) (0.7.5)\n",
            "Requirement already satisfied: traitlets>=4.2 in /usr/local/lib/python3.7/dist-packages (from ipython>=5.3.0->cufflinks->pymgrid==0.1.0) (5.1.0)\n",
            "Requirement already satisfied: prompt-toolkit<2.0.0,>=1.0.4 in /usr/local/lib/python3.7/dist-packages (from ipython>=5.3.0->cufflinks->pymgrid==0.1.0) (1.0.18)\n",
            "Requirement already satisfied: pexpect in /usr/local/lib/python3.7/dist-packages (from ipython>=5.3.0->cufflinks->pymgrid==0.1.0) (4.8.0)\n",
            "Requirement already satisfied: widgetsnbextension~=3.5.0 in /usr/local/lib/python3.7/dist-packages (from ipywidgets>=7.0.0->cufflinks->pymgrid==0.1.0) (3.5.1)\n",
            "Requirement already satisfied: nbformat>=4.2.0 in /usr/local/lib/python3.7/dist-packages (from ipywidgets>=7.0.0->cufflinks->pymgrid==0.1.0) (5.1.3)\n",
            "Requirement already satisfied: ipykernel>=4.5.1 in /usr/local/lib/python3.7/dist-packages (from ipywidgets>=7.0.0->cufflinks->pymgrid==0.1.0) (4.10.1)\n",
            "Requirement already satisfied: ipython-genutils~=0.2.0 in /usr/local/lib/python3.7/dist-packages (from ipywidgets>=7.0.0->cufflinks->pymgrid==0.1.0) (0.2.0)\n",
            "Requirement already satisfied: jupyterlab-widgets>=1.0.0 in /usr/local/lib/python3.7/dist-packages (from ipywidgets>=7.0.0->cufflinks->pymgrid==0.1.0) (1.0.2)\n",
            "Requirement already satisfied: tornado>=4.0 in /usr/local/lib/python3.7/dist-packages (from ipykernel>=4.5.1->ipywidgets>=7.0.0->cufflinks->pymgrid==0.1.0) (5.1.1)\n",
            "Requirement already satisfied: jupyter-client in /usr/local/lib/python3.7/dist-packages (from ipykernel>=4.5.1->ipywidgets>=7.0.0->cufflinks->pymgrid==0.1.0) (5.3.5)\n",
            "Requirement already satisfied: jupyter-core in /usr/local/lib/python3.7/dist-packages (from nbformat>=4.2.0->ipywidgets>=7.0.0->cufflinks->pymgrid==0.1.0) (4.8.1)\n",
            "Requirement already satisfied: jsonschema!=2.5.0,>=2.4 in /usr/local/lib/python3.7/dist-packages (from nbformat>=4.2.0->ipywidgets>=7.0.0->cufflinks->pymgrid==0.1.0) (2.6.0)\n",
            "Requirement already satisfied: pytz>=2017.2 in /usr/local/lib/python3.7/dist-packages (from pandas->pymgrid==0.1.0) (2018.9)\n",
            "Requirement already satisfied: python-dateutil>=2.7.3 in /usr/local/lib/python3.7/dist-packages (from pandas->pymgrid==0.1.0) (2.8.2)\n",
            "Requirement already satisfied: retrying>=1.3.3 in /usr/local/lib/python3.7/dist-packages (from plotly->pymgrid==0.1.0) (1.3.3)\n",
            "Requirement already satisfied: wcwidth in /usr/local/lib/python3.7/dist-packages (from prompt-toolkit<2.0.0,>=1.0.4->ipython>=5.3.0->cufflinks->pymgrid==0.1.0) (0.2.5)\n",
            "Requirement already satisfied: notebook>=4.4.1 in /usr/local/lib/python3.7/dist-packages (from widgetsnbextension~=3.5.0->ipywidgets>=7.0.0->cufflinks->pymgrid==0.1.0) (5.3.1)\n",
            "Requirement already satisfied: Send2Trash in /usr/local/lib/python3.7/dist-packages (from notebook>=4.4.1->widgetsnbextension~=3.5.0->ipywidgets>=7.0.0->cufflinks->pymgrid==0.1.0) (1.8.0)\n",
            "Requirement already satisfied: nbconvert in /usr/local/lib/python3.7/dist-packages (from notebook>=4.4.1->widgetsnbextension~=3.5.0->ipywidgets>=7.0.0->cufflinks->pymgrid==0.1.0) (5.6.1)\n",
            "Requirement already satisfied: terminado>=0.8.1 in /usr/local/lib/python3.7/dist-packages (from notebook>=4.4.1->widgetsnbextension~=3.5.0->ipywidgets>=7.0.0->cufflinks->pymgrid==0.1.0) (0.12.1)\n",
            "Requirement already satisfied: jinja2 in /usr/local/lib/python3.7/dist-packages (from notebook>=4.4.1->widgetsnbextension~=3.5.0->ipywidgets>=7.0.0->cufflinks->pymgrid==0.1.0) (2.11.3)\n",
            "Requirement already satisfied: pyzmq>=13 in /usr/local/lib/python3.7/dist-packages (from jupyter-client->ipykernel>=4.5.1->ipywidgets>=7.0.0->cufflinks->pymgrid==0.1.0) (22.3.0)\n",
            "Requirement already satisfied: ptyprocess in /usr/local/lib/python3.7/dist-packages (from terminado>=0.8.1->notebook>=4.4.1->widgetsnbextension~=3.5.0->ipywidgets>=7.0.0->cufflinks->pymgrid==0.1.0) (0.7.0)\n",
            "Requirement already satisfied: osqp>=0.4.1 in /usr/local/lib/python3.7/dist-packages (from cvxpy->pymgrid==0.1.0) (0.6.2.post0)\n",
            "Requirement already satisfied: multiprocess in /usr/local/lib/python3.7/dist-packages (from cvxpy->pymgrid==0.1.0) (0.70.12.2)\n",
            "Requirement already satisfied: scipy>=1.1.0 in /usr/local/lib/python3.7/dist-packages (from cvxpy->pymgrid==0.1.0) (1.4.1)\n",
            "Requirement already satisfied: scs>=1.1.3 in /usr/local/lib/python3.7/dist-packages (from cvxpy->pymgrid==0.1.0) (2.1.4)\n",
            "Requirement already satisfied: ecos>=2 in /usr/local/lib/python3.7/dist-packages (from cvxpy->pymgrid==0.1.0) (2.0.7.post1)\n",
            "Requirement already satisfied: qdldl in /usr/local/lib/python3.7/dist-packages (from osqp>=0.4.1->cvxpy->pymgrid==0.1.0) (0.1.5.post0)\n",
            "Requirement already satisfied: pyglet<=1.5.0,>=1.4.0 in /usr/local/lib/python3.7/dist-packages (from gym->pymgrid==0.1.0) (1.5.0)\n",
            "Requirement already satisfied: cloudpickle<1.7.0,>=1.2.0 in /usr/local/lib/python3.7/dist-packages (from gym->pymgrid==0.1.0) (1.3.0)\n",
            "Requirement already satisfied: future in /usr/local/lib/python3.7/dist-packages (from pyglet<=1.5.0,>=1.4.0->gym->pymgrid==0.1.0) (0.16.0)\n",
            "Requirement already satisfied: MarkupSafe>=0.23 in /usr/local/lib/python3.7/dist-packages (from jinja2->notebook>=4.4.1->widgetsnbextension~=3.5.0->ipywidgets>=7.0.0->cufflinks->pymgrid==0.1.0) (2.0.1)\n",
            "Requirement already satisfied: kiwisolver>=1.0.1 in /usr/local/lib/python3.7/dist-packages (from matplotlib->pymgrid==0.1.0) (1.3.2)\n",
            "Requirement already satisfied: cycler>=0.10 in /usr/local/lib/python3.7/dist-packages (from matplotlib->pymgrid==0.1.0) (0.10.0)\n",
            "Requirement already satisfied: pyparsing!=2.0.4,!=2.1.2,!=2.1.6,>=2.0.1 in /usr/local/lib/python3.7/dist-packages (from matplotlib->pymgrid==0.1.0) (2.4.7)\n",
            "Requirement already satisfied: dill>=0.3.4 in /usr/local/lib/python3.7/dist-packages (from multiprocess->cvxpy->pymgrid==0.1.0) (0.3.4)\n",
            "Requirement already satisfied: bleach in /usr/local/lib/python3.7/dist-packages (from nbconvert->notebook>=4.4.1->widgetsnbextension~=3.5.0->ipywidgets>=7.0.0->cufflinks->pymgrid==0.1.0) (4.1.0)\n",
            "Requirement already satisfied: mistune<2,>=0.8.1 in /usr/local/lib/python3.7/dist-packages (from nbconvert->notebook>=4.4.1->widgetsnbextension~=3.5.0->ipywidgets>=7.0.0->cufflinks->pymgrid==0.1.0) (0.8.4)\n",
            "Requirement already satisfied: defusedxml in /usr/local/lib/python3.7/dist-packages (from nbconvert->notebook>=4.4.1->widgetsnbextension~=3.5.0->ipywidgets>=7.0.0->cufflinks->pymgrid==0.1.0) (0.7.1)\n",
            "Requirement already satisfied: pandocfilters>=1.4.1 in /usr/local/lib/python3.7/dist-packages (from nbconvert->notebook>=4.4.1->widgetsnbextension~=3.5.0->ipywidgets>=7.0.0->cufflinks->pymgrid==0.1.0) (1.5.0)\n",
            "Requirement already satisfied: entrypoints>=0.2.2 in /usr/local/lib/python3.7/dist-packages (from nbconvert->notebook>=4.4.1->widgetsnbextension~=3.5.0->ipywidgets>=7.0.0->cufflinks->pymgrid==0.1.0) (0.3)\n",
            "Requirement already satisfied: testpath in /usr/local/lib/python3.7/dist-packages (from nbconvert->notebook>=4.4.1->widgetsnbextension~=3.5.0->ipywidgets>=7.0.0->cufflinks->pymgrid==0.1.0) (0.5.0)\n",
            "Requirement already satisfied: webencodings in /usr/local/lib/python3.7/dist-packages (from bleach->nbconvert->notebook>=4.4.1->widgetsnbextension~=3.5.0->ipywidgets>=7.0.0->cufflinks->pymgrid==0.1.0) (0.5.1)\n",
            "Requirement already satisfied: packaging in /usr/local/lib/python3.7/dist-packages (from bleach->nbconvert->notebook>=4.4.1->widgetsnbextension~=3.5.0->ipywidgets>=7.0.0->cufflinks->pymgrid==0.1.0) (21.0)\n",
            "Requirement already satisfied: certifi>=2017.4.17 in /usr/local/lib/python3.7/dist-packages (from requests->pymgrid==0.1.0) (2021.5.30)\n",
            "Requirement already satisfied: urllib3!=1.25.0,!=1.25.1,<1.26,>=1.21.1 in /usr/local/lib/python3.7/dist-packages (from requests->pymgrid==0.1.0) (1.24.3)\n",
            "Requirement already satisfied: chardet<4,>=3.0.2 in /usr/local/lib/python3.7/dist-packages (from requests->pymgrid==0.1.0) (3.0.4)\n",
            "Requirement already satisfied: idna<3,>=2.5 in /usr/local/lib/python3.7/dist-packages (from requests->pymgrid==0.1.0) (2.10)\n",
            "Requirement already satisfied: patsy>=0.4.0 in /usr/local/lib/python3.7/dist-packages (from statsmodels->pymgrid==0.1.0) (0.5.2)\n",
            "Building wheels for collected packages: pymgrid\n",
            "  Building wheel for pymgrid (setup.py) ... \u001b[?25l\u001b[?25hdone\n",
            "  Created wheel for pymgrid: filename=pymgrid-0.1.0-py3-none-any.whl size=3423644 sha256=20fcfeac2a76832afdba95ace090cad839359227ece4a870a8e19a337b858f49\n",
            "  Stored in directory: /tmp/pip-ephem-wheel-cache-ysqa1z3e/wheels/e5/88/1d/f8d379259639fcb7a25a36c96e2f63e402ce354dde5ece9ce6\n",
            "Successfully built pymgrid\n",
            "Installing collected packages: pymgrid\n",
            "Successfully installed pymgrid-0.1.0\n"
          ]
        }
      ]
    },
    {
      "cell_type": "code",
      "metadata": {
        "id": "PeuuckWTVgO0",
        "colab": {
          "base_uri": "https://localhost:8080/"
        },
        "outputId": "26e7f327-e169-40ec-a7f6-f07180d6210f"
      },
      "source": [
        "#import modules\n",
        "\n",
        "import sys\n",
        "from pymgrid import MicrogridGenerator as mg\n",
        "import matplotlib.pyplot as plt\n",
        "import numpy as np\n",
        "import os\n",
        "import time\n"
      ],
      "execution_count": 2,
      "outputs": [
        {
          "output_type": "stream",
          "name": "stderr",
          "text": [
            "/usr/local/lib/python3.7/dist-packages/statsmodels/tools/_testing.py:19: FutureWarning:\n",
            "\n",
            "pandas.util.testing is deprecated. Use the functions in the public API at pandas.testing instead.\n",
            "\n"
          ]
        }
      ]
    },
    {
      "cell_type": "code",
      "metadata": {
        "colab": {
          "base_uri": "https://localhost:8080/",
          "height": 376
        },
        "id": "VaXuSnJPWe06",
        "outputId": "2c15407e-9969-4c4d-a1e6-a0664e2da485"
      },
      "source": [
        "#generate microgrids\n",
        "env = mg.MicrogridGenerator(nb_microgrid=10)\n",
        "env.generate_microgrid(verbose= True)\n",
        "mg0 = env.microgrids[0]\n",
        "mg1 = env.microgrids[1]\n",
        "mg2 = env.microgrids[2]\n",
        "mg3 = env.microgrids[3]\n",
        "mg4 = env.microgrids[4]\n",
        "mg5 = env.microgrids[5]\n",
        "mg6 = env.microgrids[6]\n",
        "mg9 = env.microgrids[9]\n"
      ],
      "execution_count": 3,
      "outputs": [
        {
          "output_type": "display_data",
          "data": {
            "text/html": [
              "<div>\n",
              "<style scoped>\n",
              "    .dataframe tbody tr th:only-of-type {\n",
              "        vertical-align: middle;\n",
              "    }\n",
              "\n",
              "    .dataframe tbody tr th {\n",
              "        vertical-align: top;\n",
              "    }\n",
              "\n",
              "    .dataframe thead th {\n",
              "        text-align: right;\n",
              "    }\n",
              "</style>\n",
              "<table border=\"1\" class=\"dataframe\">\n",
              "  <thead>\n",
              "    <tr style=\"text-align: right;\">\n",
              "      <th></th>\n",
              "      <th>load</th>\n",
              "      <th>cost_loss_load</th>\n",
              "      <th>cost_overgeneration</th>\n",
              "      <th>cost_co2</th>\n",
              "      <th>PV_rated_power</th>\n",
              "      <th>battery_soc_0</th>\n",
              "      <th>battery_power_charge</th>\n",
              "      <th>battery_power_discharge</th>\n",
              "      <th>battery_capacity</th>\n",
              "      <th>battery_efficiency</th>\n",
              "      <th>battery_soc_min</th>\n",
              "      <th>battery_soc_max</th>\n",
              "      <th>battery_cost_cycle</th>\n",
              "      <th>grid_weak</th>\n",
              "      <th>grid_power_import</th>\n",
              "      <th>grid_power_export</th>\n",
              "      <th>genset_polynom_order</th>\n",
              "      <th>genset_polynom_0</th>\n",
              "      <th>genset_polynom_1</th>\n",
              "      <th>genset_polynom_2</th>\n",
              "      <th>genset_rated_power</th>\n",
              "      <th>genset_pmin</th>\n",
              "      <th>genset_pmax</th>\n",
              "      <th>fuel_cost</th>\n",
              "      <th>genset_co2</th>\n",
              "    </tr>\n",
              "  </thead>\n",
              "  <tbody>\n",
              "    <tr>\n",
              "      <th>0</th>\n",
              "      <td>960</td>\n",
              "      <td>10</td>\n",
              "      <td>1</td>\n",
              "      <td>0.1</td>\n",
              "      <td>969.60</td>\n",
              "      <td>0.200000</td>\n",
              "      <td>236</td>\n",
              "      <td>236</td>\n",
              "      <td>944</td>\n",
              "      <td>0.9</td>\n",
              "      <td>0.2</td>\n",
              "      <td>1</td>\n",
              "      <td>0.02</td>\n",
              "      <td>0.0</td>\n",
              "      <td>1920.0</td>\n",
              "      <td>1920.0</td>\n",
              "      <td>NaN</td>\n",
              "      <td>NaN</td>\n",
              "      <td>NaN</td>\n",
              "      <td>NaN</td>\n",
              "      <td>NaN</td>\n",
              "      <td>NaN</td>\n",
              "      <td>NaN</td>\n",
              "      <td>NaN</td>\n",
              "      <td>NaN</td>\n",
              "    </tr>\n",
              "    <tr>\n",
              "      <th>1</th>\n",
              "      <td>60363</td>\n",
              "      <td>10</td>\n",
              "      <td>1</td>\n",
              "      <td>0.1</td>\n",
              "      <td>30785.13</td>\n",
              "      <td>0.200000</td>\n",
              "      <td>14838</td>\n",
              "      <td>14838</td>\n",
              "      <td>59352</td>\n",
              "      <td>0.9</td>\n",
              "      <td>0.2</td>\n",
              "      <td>1</td>\n",
              "      <td>0.02</td>\n",
              "      <td>1.0</td>\n",
              "      <td>120726.0</td>\n",
              "      <td>120726.0</td>\n",
              "      <td>3.0</td>\n",
              "      <td>1.635550</td>\n",
              "      <td>0.435848</td>\n",
              "      <td>0.045227</td>\n",
              "      <td>67070.0</td>\n",
              "      <td>0.05</td>\n",
              "      <td>0.9</td>\n",
              "      <td>0.4</td>\n",
              "      <td>2.0</td>\n",
              "    </tr>\n",
              "    <tr>\n",
              "      <th>2</th>\n",
              "      <td>43725</td>\n",
              "      <td>10</td>\n",
              "      <td>1</td>\n",
              "      <td>0.1</td>\n",
              "      <td>54219.00</td>\n",
              "      <td>0.200000</td>\n",
              "      <td>10749</td>\n",
              "      <td>10749</td>\n",
              "      <td>42993</td>\n",
              "      <td>0.9</td>\n",
              "      <td>0.2</td>\n",
              "      <td>1</td>\n",
              "      <td>0.02</td>\n",
              "      <td>NaN</td>\n",
              "      <td>NaN</td>\n",
              "      <td>NaN</td>\n",
              "      <td>3.0</td>\n",
              "      <td>6.681807</td>\n",
              "      <td>0.895812</td>\n",
              "      <td>0.005779</td>\n",
              "      <td>48584.0</td>\n",
              "      <td>0.05</td>\n",
              "      <td>0.9</td>\n",
              "      <td>0.4</td>\n",
              "      <td>2.0</td>\n",
              "    </tr>\n",
              "    <tr>\n",
              "      <th>3</th>\n",
              "      <td>78147</td>\n",
              "      <td>10</td>\n",
              "      <td>1</td>\n",
              "      <td>0.1</td>\n",
              "      <td>38292.03</td>\n",
              "      <td>0.200000</td>\n",
              "      <td>32198</td>\n",
              "      <td>32198</td>\n",
              "      <td>128791</td>\n",
              "      <td>0.9</td>\n",
              "      <td>0.2</td>\n",
              "      <td>1</td>\n",
              "      <td>0.02</td>\n",
              "      <td>NaN</td>\n",
              "      <td>NaN</td>\n",
              "      <td>NaN</td>\n",
              "      <td>3.0</td>\n",
              "      <td>4.766205</td>\n",
              "      <td>0.763615</td>\n",
              "      <td>0.025826</td>\n",
              "      <td>86830.0</td>\n",
              "      <td>0.05</td>\n",
              "      <td>0.9</td>\n",
              "      <td>0.4</td>\n",
              "      <td>2.0</td>\n",
              "    </tr>\n",
              "    <tr>\n",
              "      <th>4</th>\n",
              "      <td>49813</td>\n",
              "      <td>10</td>\n",
              "      <td>1</td>\n",
              "      <td>0.1</td>\n",
              "      <td>73225.11</td>\n",
              "      <td>0.200000</td>\n",
              "      <td>20524</td>\n",
              "      <td>20524</td>\n",
              "      <td>82095</td>\n",
              "      <td>0.9</td>\n",
              "      <td>0.2</td>\n",
              "      <td>1</td>\n",
              "      <td>0.02</td>\n",
              "      <td>0.0</td>\n",
              "      <td>99626.0</td>\n",
              "      <td>99626.0</td>\n",
              "      <td>NaN</td>\n",
              "      <td>NaN</td>\n",
              "      <td>NaN</td>\n",
              "      <td>NaN</td>\n",
              "      <td>NaN</td>\n",
              "      <td>NaN</td>\n",
              "      <td>NaN</td>\n",
              "      <td>NaN</td>\n",
              "      <td>NaN</td>\n",
              "    </tr>\n",
              "    <tr>\n",
              "      <th>5</th>\n",
              "      <td>28560</td>\n",
              "      <td>10</td>\n",
              "      <td>1</td>\n",
              "      <td>0.1</td>\n",
              "      <td>30559.20</td>\n",
              "      <td>1.000000</td>\n",
              "      <td>9361</td>\n",
              "      <td>9361</td>\n",
              "      <td>37442</td>\n",
              "      <td>0.9</td>\n",
              "      <td>0.2</td>\n",
              "      <td>1</td>\n",
              "      <td>0.02</td>\n",
              "      <td>NaN</td>\n",
              "      <td>NaN</td>\n",
              "      <td>NaN</td>\n",
              "      <td>3.0</td>\n",
              "      <td>5.861824</td>\n",
              "      <td>0.357242</td>\n",
              "      <td>0.057705</td>\n",
              "      <td>31734.0</td>\n",
              "      <td>0.05</td>\n",
              "      <td>0.9</td>\n",
              "      <td>0.4</td>\n",
              "      <td>2.0</td>\n",
              "    </tr>\n",
              "    <tr>\n",
              "      <th>6</th>\n",
              "      <td>49216</td>\n",
              "      <td>10</td>\n",
              "      <td>1</td>\n",
              "      <td>0.1</td>\n",
              "      <td>53645.44</td>\n",
              "      <td>0.960305</td>\n",
              "      <td>31008</td>\n",
              "      <td>31008</td>\n",
              "      <td>124032</td>\n",
              "      <td>0.9</td>\n",
              "      <td>0.2</td>\n",
              "      <td>1</td>\n",
              "      <td>0.02</td>\n",
              "      <td>0.0</td>\n",
              "      <td>98431.0</td>\n",
              "      <td>98431.0</td>\n",
              "      <td>NaN</td>\n",
              "      <td>NaN</td>\n",
              "      <td>NaN</td>\n",
              "      <td>NaN</td>\n",
              "      <td>NaN</td>\n",
              "      <td>NaN</td>\n",
              "      <td>NaN</td>\n",
              "      <td>NaN</td>\n",
              "      <td>NaN</td>\n",
              "    </tr>\n",
              "    <tr>\n",
              "      <th>7</th>\n",
              "      <td>11798</td>\n",
              "      <td>10</td>\n",
              "      <td>1</td>\n",
              "      <td>0.1</td>\n",
              "      <td>10028.30</td>\n",
              "      <td>1.000000</td>\n",
              "      <td>6077</td>\n",
              "      <td>6077</td>\n",
              "      <td>24305</td>\n",
              "      <td>0.9</td>\n",
              "      <td>0.2</td>\n",
              "      <td>1</td>\n",
              "      <td>0.02</td>\n",
              "      <td>NaN</td>\n",
              "      <td>NaN</td>\n",
              "      <td>NaN</td>\n",
              "      <td>3.0</td>\n",
              "      <td>9.201970</td>\n",
              "      <td>0.049159</td>\n",
              "      <td>0.057350</td>\n",
              "      <td>13109.0</td>\n",
              "      <td>0.05</td>\n",
              "      <td>0.9</td>\n",
              "      <td>0.4</td>\n",
              "      <td>2.0</td>\n",
              "    </tr>\n",
              "    <tr>\n",
              "      <th>8</th>\n",
              "      <td>64065</td>\n",
              "      <td>10</td>\n",
              "      <td>1</td>\n",
              "      <td>0.1</td>\n",
              "      <td>34595.10</td>\n",
              "      <td>0.200000</td>\n",
              "      <td>46699</td>\n",
              "      <td>46699</td>\n",
              "      <td>186793</td>\n",
              "      <td>0.9</td>\n",
              "      <td>0.2</td>\n",
              "      <td>1</td>\n",
              "      <td>0.02</td>\n",
              "      <td>1.0</td>\n",
              "      <td>128129.0</td>\n",
              "      <td>128129.0</td>\n",
              "      <td>3.0</td>\n",
              "      <td>0.453313</td>\n",
              "      <td>0.361616</td>\n",
              "      <td>0.075648</td>\n",
              "      <td>71184.0</td>\n",
              "      <td>0.05</td>\n",
              "      <td>0.9</td>\n",
              "      <td>0.4</td>\n",
              "      <td>2.0</td>\n",
              "    </tr>\n",
              "    <tr>\n",
              "      <th>9</th>\n",
              "      <td>98996</td>\n",
              "      <td>10</td>\n",
              "      <td>1</td>\n",
              "      <td>0.1</td>\n",
              "      <td>136614.48</td>\n",
              "      <td>0.537479</td>\n",
              "      <td>32446</td>\n",
              "      <td>32446</td>\n",
              "      <td>129783</td>\n",
              "      <td>0.9</td>\n",
              "      <td>0.2</td>\n",
              "      <td>1</td>\n",
              "      <td>0.02</td>\n",
              "      <td>1.0</td>\n",
              "      <td>197991.0</td>\n",
              "      <td>197991.0</td>\n",
              "      <td>3.0</td>\n",
              "      <td>2.804776</td>\n",
              "      <td>0.429289</td>\n",
              "      <td>0.017715</td>\n",
              "      <td>109996.0</td>\n",
              "      <td>0.05</td>\n",
              "      <td>0.9</td>\n",
              "      <td>0.4</td>\n",
              "      <td>2.0</td>\n",
              "    </tr>\n",
              "  </tbody>\n",
              "</table>\n",
              "</div>"
            ],
            "text/plain": [
              "    load  cost_loss_load  cost_overgeneration  cost_co2  PV_rated_power  \\\n",
              "0    960              10                    1       0.1          969.60   \n",
              "1  60363              10                    1       0.1        30785.13   \n",
              "2  43725              10                    1       0.1        54219.00   \n",
              "3  78147              10                    1       0.1        38292.03   \n",
              "4  49813              10                    1       0.1        73225.11   \n",
              "5  28560              10                    1       0.1        30559.20   \n",
              "6  49216              10                    1       0.1        53645.44   \n",
              "7  11798              10                    1       0.1        10028.30   \n",
              "8  64065              10                    1       0.1        34595.10   \n",
              "9  98996              10                    1       0.1       136614.48   \n",
              "\n",
              "   battery_soc_0  battery_power_charge  battery_power_discharge  \\\n",
              "0       0.200000                   236                      236   \n",
              "1       0.200000                 14838                    14838   \n",
              "2       0.200000                 10749                    10749   \n",
              "3       0.200000                 32198                    32198   \n",
              "4       0.200000                 20524                    20524   \n",
              "5       1.000000                  9361                     9361   \n",
              "6       0.960305                 31008                    31008   \n",
              "7       1.000000                  6077                     6077   \n",
              "8       0.200000                 46699                    46699   \n",
              "9       0.537479                 32446                    32446   \n",
              "\n",
              "   battery_capacity  battery_efficiency  battery_soc_min  battery_soc_max  \\\n",
              "0               944                 0.9              0.2                1   \n",
              "1             59352                 0.9              0.2                1   \n",
              "2             42993                 0.9              0.2                1   \n",
              "3            128791                 0.9              0.2                1   \n",
              "4             82095                 0.9              0.2                1   \n",
              "5             37442                 0.9              0.2                1   \n",
              "6            124032                 0.9              0.2                1   \n",
              "7             24305                 0.9              0.2                1   \n",
              "8            186793                 0.9              0.2                1   \n",
              "9            129783                 0.9              0.2                1   \n",
              "\n",
              "   battery_cost_cycle  grid_weak  grid_power_import  grid_power_export  \\\n",
              "0                0.02        0.0             1920.0             1920.0   \n",
              "1                0.02        1.0           120726.0           120726.0   \n",
              "2                0.02        NaN                NaN                NaN   \n",
              "3                0.02        NaN                NaN                NaN   \n",
              "4                0.02        0.0            99626.0            99626.0   \n",
              "5                0.02        NaN                NaN                NaN   \n",
              "6                0.02        0.0            98431.0            98431.0   \n",
              "7                0.02        NaN                NaN                NaN   \n",
              "8                0.02        1.0           128129.0           128129.0   \n",
              "9                0.02        1.0           197991.0           197991.0   \n",
              "\n",
              "   genset_polynom_order  genset_polynom_0  genset_polynom_1  genset_polynom_2  \\\n",
              "0                   NaN               NaN               NaN               NaN   \n",
              "1                   3.0          1.635550          0.435848          0.045227   \n",
              "2                   3.0          6.681807          0.895812          0.005779   \n",
              "3                   3.0          4.766205          0.763615          0.025826   \n",
              "4                   NaN               NaN               NaN               NaN   \n",
              "5                   3.0          5.861824          0.357242          0.057705   \n",
              "6                   NaN               NaN               NaN               NaN   \n",
              "7                   3.0          9.201970          0.049159          0.057350   \n",
              "8                   3.0          0.453313          0.361616          0.075648   \n",
              "9                   3.0          2.804776          0.429289          0.017715   \n",
              "\n",
              "   genset_rated_power  genset_pmin  genset_pmax  fuel_cost  genset_co2  \n",
              "0                 NaN          NaN          NaN        NaN         NaN  \n",
              "1             67070.0         0.05          0.9        0.4         2.0  \n",
              "2             48584.0         0.05          0.9        0.4         2.0  \n",
              "3             86830.0         0.05          0.9        0.4         2.0  \n",
              "4                 NaN          NaN          NaN        NaN         NaN  \n",
              "5             31734.0         0.05          0.9        0.4         2.0  \n",
              "6                 NaN          NaN          NaN        NaN         NaN  \n",
              "7             13109.0         0.05          0.9        0.4         2.0  \n",
              "8             71184.0         0.05          0.9        0.4         2.0  \n",
              "9            109996.0         0.05          0.9        0.4         2.0  "
            ]
          },
          "metadata": {}
        }
      ]
    },
    {
      "cell_type": "markdown",
      "metadata": {
        "id": "K7ASvLoTa-fM"
      },
      "source": [
        "microgrid 1,8 and 9 has a weak grid <br>\n",
        "\n",
        "microgrid 0 and microgrid 6 has the same architecture\n",
        "\n",
        "microgrid 2,3,5 and 7 has no grid"
      ]
    },
    {
      "cell_type": "code",
      "metadata": {
        "colab": {
          "base_uri": "https://localhost:8080/"
        },
        "id": "KHHbzlANW3yr",
        "outputId": "6dcbc0a9-8ec1-461d-dd40-a865a0de9300"
      },
      "source": [
        "#show the microgrids using for loops.\n",
        "#identify the microgrid architecture\n",
        "for i in range(env.nb_microgrids):\n",
        "  print(\"Microgrids {} architecture: {}\".format(int(i), str(env.microgrids[i].architecture)))\n",
        "#benchmark \n",
        "#env.microgrids[0].benchmarks.run_benchmarks(\"rbc\")\n",
        "#env.microgrids[0].benchmarks.describe_benchmarks()"
      ],
      "execution_count": 4,
      "outputs": [
        {
          "output_type": "stream",
          "name": "stdout",
          "text": [
            "Microgrids 0 architecture: {'PV': 1, 'battery': 1, 'genset': 0, 'grid': 1}\n",
            "Microgrids 1 architecture: {'PV': 1, 'battery': 1, 'genset': 1, 'grid': 1}\n",
            "Microgrids 2 architecture: {'PV': 1, 'battery': 1, 'genset': 1, 'grid': 0}\n",
            "Microgrids 3 architecture: {'PV': 1, 'battery': 1, 'genset': 1, 'grid': 0}\n",
            "Microgrids 4 architecture: {'PV': 1, 'battery': 1, 'genset': 0, 'grid': 1}\n",
            "Microgrids 5 architecture: {'PV': 1, 'battery': 1, 'genset': 1, 'grid': 0}\n",
            "Microgrids 6 architecture: {'PV': 1, 'battery': 1, 'genset': 0, 'grid': 1}\n",
            "Microgrids 7 architecture: {'PV': 1, 'battery': 1, 'genset': 1, 'grid': 0}\n",
            "Microgrids 8 architecture: {'PV': 1, 'battery': 1, 'genset': 1, 'grid': 1}\n",
            "Microgrids 9 architecture: {'PV': 1, 'battery': 1, 'genset': 1, 'grid': 1}\n"
          ]
        }
      ]
    },
    {
      "cell_type": "markdown",
      "metadata": {
        "id": "kOWuQbQ6XX1T"
      },
      "source": [
        "##1.2 Microgrid Information"
      ]
    },
    {
      "cell_type": "code",
      "metadata": {
        "colab": {
          "base_uri": "https://localhost:8080/",
          "height": 297
        },
        "id": "-XdmnNqSXbAL",
        "outputId": "f1a63c28-6d08-4a7b-c322-9f6354619ed5"
      },
      "source": [
        "\n",
        "mg0.print_info()"
      ],
      "execution_count": 5,
      "outputs": [
        {
          "output_type": "stream",
          "name": "stdout",
          "text": [
            "Microgrid parameters\n"
          ]
        },
        {
          "output_type": "display_data",
          "data": {
            "text/html": [
              "<div>\n",
              "<style scoped>\n",
              "    .dataframe tbody tr th:only-of-type {\n",
              "        vertical-align: middle;\n",
              "    }\n",
              "\n",
              "    .dataframe tbody tr th {\n",
              "        vertical-align: top;\n",
              "    }\n",
              "\n",
              "    .dataframe thead th {\n",
              "        text-align: right;\n",
              "    }\n",
              "</style>\n",
              "<table border=\"1\" class=\"dataframe\">\n",
              "  <thead>\n",
              "    <tr style=\"text-align: right;\">\n",
              "      <th></th>\n",
              "      <th>load</th>\n",
              "      <th>cost_loss_load</th>\n",
              "      <th>cost_overgeneration</th>\n",
              "      <th>cost_co2</th>\n",
              "      <th>PV_rated_power</th>\n",
              "      <th>battery_soc_0</th>\n",
              "      <th>battery_power_charge</th>\n",
              "      <th>battery_power_discharge</th>\n",
              "      <th>battery_capacity</th>\n",
              "      <th>battery_efficiency</th>\n",
              "      <th>battery_soc_min</th>\n",
              "      <th>battery_soc_max</th>\n",
              "      <th>battery_cost_cycle</th>\n",
              "      <th>grid_weak</th>\n",
              "      <th>grid_power_import</th>\n",
              "      <th>grid_power_export</th>\n",
              "    </tr>\n",
              "  </thead>\n",
              "  <tbody>\n",
              "    <tr>\n",
              "      <th>0</th>\n",
              "      <td>960</td>\n",
              "      <td>10</td>\n",
              "      <td>1</td>\n",
              "      <td>0.1</td>\n",
              "      <td>969.6</td>\n",
              "      <td>0.2</td>\n",
              "      <td>236</td>\n",
              "      <td>236</td>\n",
              "      <td>944</td>\n",
              "      <td>0.9</td>\n",
              "      <td>0.2</td>\n",
              "      <td>1</td>\n",
              "      <td>0.02</td>\n",
              "      <td>0</td>\n",
              "      <td>1920</td>\n",
              "      <td>1920</td>\n",
              "    </tr>\n",
              "  </tbody>\n",
              "</table>\n",
              "</div>"
            ],
            "text/plain": [
              "   load  cost_loss_load  cost_overgeneration  cost_co2  PV_rated_power  \\\n",
              "0   960              10                    1       0.1           969.6   \n",
              "\n",
              "   battery_soc_0  battery_power_charge  battery_power_discharge  \\\n",
              "0            0.2                   236                      236   \n",
              "\n",
              "   battery_capacity  battery_efficiency  battery_soc_min  battery_soc_max  \\\n",
              "0               944                 0.9              0.2                1   \n",
              "\n",
              "   battery_cost_cycle  grid_weak  grid_power_import  grid_power_export  \n",
              "0                0.02          0               1920               1920  "
            ]
          },
          "metadata": {}
        },
        {
          "output_type": "stream",
          "name": "stdout",
          "text": [
            "Architecture:\n",
            "{'PV': 1, 'battery': 1, 'genset': 0, 'grid': 1}\n",
            "Actions: \n",
            "dict_keys(['load', 'pv_consummed', 'pv_curtailed', 'pv', 'battery_charge', 'battery_discharge', 'grid_import', 'grid_export'])\n",
            "Control dictionnary:\n",
            "['load', 'pv_consummed', 'pv_curtailed', 'pv', 'battery_charge', 'battery_discharge', 'grid_import', 'grid_export']\n",
            "Status: \n",
            "dict_keys(['load', 'hour', 'pv', 'battery_soc', 'capa_to_charge', 'capa_to_discharge', 'grid_status', 'grid_co2', 'grid_price_import', 'grid_price_export'])\n",
            "Has run mpc baseline:\n",
            "False\n",
            "Has run rule based baseline:\n",
            "False\n"
          ]
        }
      ]
    },
    {
      "cell_type": "markdown",
      "metadata": {
        "id": "X0hmcQ9PXd3L"
      },
      "source": [
        "the penetration of the microgrid: <br>\n",
        "Penetration = $ (PvRatedpower/load)*100 $"
      ]
    },
    {
      "cell_type": "code",
      "metadata": {
        "colab": {
          "base_uri": "https://localhost:8080/"
        },
        "id": "KqikyVoWcr5J",
        "outputId": "540fa38e-0980-4e8d-ea34-e0200a64e195"
      },
      "source": [
        "#calculate the penetration of the microgrid using the formula\n",
        "#round them off and display\n",
        "print(\"Penetration of PV microgrid 0: \", round(mg0.parameters[\"PV_rated_power\"][0]/mg0.parameters[\"load\"][0]*100,2),\"%\")\n",
        "print(\"Penetration of PV microgrid 1: \", round(mg1.parameters[\"PV_rated_power\"][0]/mg1.parameters[\"load\"][0]*100,2),\"%\")"
      ],
      "execution_count": 6,
      "outputs": [
        {
          "output_type": "stream",
          "name": "stdout",
          "text": [
            "Penetration of PV microgrid 0:  101.0 %\n",
            "Penetration of PV microgrid 1:  51.0 %\n"
          ]
        }
      ]
    },
    {
      "cell_type": "markdown",
      "metadata": {
        "id": "yDtqooJEXvvs"
      },
      "source": [
        "what are my state variables? <br>\n",
        "use current net_load (load-pv) and the current battery capacity for this case<br>\n",
        "$NetLoad_(mg0) = Load_(mg0)-PV_(mg0))$"
      ]
    },
    {
      "cell_type": "code",
      "metadata": {
        "colab": {
          "base_uri": "https://localhost:8080/"
        },
        "id": "2yGvSYU4Xuk0",
        "outputId": "0fb6a44e-9638-4469-f5ac-6da54c7f3d65"
      },
      "source": [
        "#calculate net load of microgrid 0\n",
        "net_load = mg0.load-mg0.pv\n",
        "#print the current net load\n",
        "print(\"Current net load of microgrid 0: {:0.4} kWh\".format(net_load) )\n",
        "print(\"Current battery capacity of microgrid 0:\", mg0.battery.capacity) "
      ],
      "execution_count": 7,
      "outputs": [
        {
          "output_type": "stream",
          "name": "stdout",
          "text": [
            "Current net load of microgrid 0: 145.6 kWh\n",
            "Current battery capacity of microgrid 0: 944\n"
          ]
        }
      ]
    },
    {
      "cell_type": "markdown",
      "metadata": {
        "id": "Vjxz8zBmY6FO"
      },
      "source": [
        "#1.3 Plot the PV and Load forecast\n",
        "\n",
        "to avoid confusion, we remove microgrid 1 and mainly focus on microgrid 0, since our training will first be done on microgrid 0"
      ]
    },
    {
      "cell_type": "markdown",
      "metadata": {
        "id": "5KLX36NKZBi3"
      },
      "source": [
        "##forecast for next 24 hours\n"
      ]
    },
    {
      "cell_type": "code",
      "metadata": {
        "colab": {
          "base_uri": "https://localhost:8080/",
          "height": 280
        },
        "id": "yJB_YU87kZOj",
        "outputId": "4535d392-6540-4004-fda6-40a4f7b65f51"
      },
      "source": [
        "plt.title(\"forecast of Pv and load of microgrid 0 for the next 24 hours\")\n",
        "mg0.set_horizon(24)\n",
        "plt.plot(mg0.forecast_pv(), label =\"PV forecast\")\n",
        "plt.plot(mg0.forecast_load(), label = \"load forecast\")\n",
        "plt.legend()\n",
        "plt.show()"
      ],
      "execution_count": 8,
      "outputs": [
        {
          "output_type": "display_data",
          "data": {
            "image/png": "[encoded data removed]",
            "text/plain": [
              "<Figure size 432x288 with 1 Axes>"
            ]
          },
          "metadata": {
            "needs_background": "light"
          }
        }
      ]
    },
    {
      "cell_type": "markdown",
      "metadata": {
        "id": "bm8J3s1N2cBg"
      },
      "source": [
        "#forecast for next hours (identifying the peak hours accurately\n"
      ]
    },
    {
      "cell_type": "code",
      "metadata": {
        "colab": {
          "base_uri": "https://localhost:8080/",
          "height": 280
        },
        "id": "8Qu5dvFz2yRQ",
        "outputId": "c34b720c-1088-42ee-82fa-9d5ccdd64060"
      },
      "source": [
        "plt.title(\"forecast (Microgrid 0)\")\n",
        "#change the horizon time\n",
        "mg0.set_horizon(19)\n",
        "#dont forget to change back the horizon at the right value afterward\n",
        "plt.plot(mg0.forecast_pv(), label =\"PV forecast\")\n",
        "plt.plot(mg0.forecast_load(), label =\"load forecast\")\n",
        "plt.legend()\n",
        "plt.show()"
      ],
      "execution_count": 9,
      "outputs": [
        {
          "output_type": "display_data",
          "data": {
            "image/png": "[encoded data removed]",
            "text/plain": [
              "<Figure size 432x288 with 1 Axes>"
            ]
          },
          "metadata": {
            "needs_background": "light"
          }
        }
      ]
    },
    {
      "cell_type": "markdown",
      "metadata": {
        "id": "7ZyFixTxaYhJ"
      },
      "source": [
        "##forecast for next 4 days"
      ]
    },
    {
      "cell_type": "code",
      "metadata": {
        "colab": {
          "base_uri": "https://localhost:8080/",
          "height": 280
        },
        "id": "tAHEJ0jvZQV_",
        "outputId": "0422c1ed-1f63-4616-8397-61fb170167d1"
      },
      "source": [
        "plt.title(\"forecast for the next 4 days (Microgrid 0)\")\n",
        "#change the horizon time\n",
        "mg0.set_horizon(24*4)\n",
        "#dont forget to change back the horizon at the right value afterward\n",
        "plt.plot(mg0.forecast_pv(), label =\"PV forecast\")\n",
        "plt.plot(mg0.forecast_load(), label =\"load forecast\")\n",
        "plt.legend()\n",
        "plt.show()"
      ],
      "execution_count": 10,
      "outputs": [
        {
          "output_type": "display_data",
          "data": {
            "image/png": "[encoded data removed]",
            "text/plain": [
              "<Figure size 432x288 with 1 Axes>"
            ]
          },
          "metadata": {
            "needs_background": "light"
          }
        }
      ]
    },
    {
      "cell_type": "markdown",
      "metadata": {
        "id": "2JFW0s1ca69j"
      },
      "source": [
        "what is my net load for over 4 days? (Microgrid 0)"
      ]
    },
    {
      "cell_type": "code",
      "metadata": {
        "colab": {
          "base_uri": "https://localhost:8080/",
          "height": 280
        },
        "id": "9w31M3N9a-q0",
        "outputId": "c5832d40-9c0b-4a54-ddd1-dba94d7c64d1"
      },
      "source": [
        "plt.title(\"Microgrid net load over 4 days\")\n",
        "plt.plot(mg0.forecast_load()-mg0.forecast_pv(), label = \"Microgrid 0 Net load forecast\")\n",
        "\n",
        "plt.legend()\n",
        "plt.show()"
      ],
      "execution_count": 11,
      "outputs": [
        {
          "output_type": "display_data",
          "data": {
            "image/png": "[encoded data removed]",
            "text/plain": [
              "<Figure size 432x288 with 1 Axes>"
            ]
          },
          "metadata": {
            "needs_background": "light"
          }
        }
      ]
    },
    {
      "cell_type": "markdown",
      "metadata": {
        "id": "f2c4mKZ_bEhr"
      },
      "source": [
        "now that the 4 day forecast is complete, we need to return our horizon back at 24 steps per hour"
      ]
    },
    {
      "cell_type": "code",
      "metadata": {
        "id": "DEH5p0ZSbCr6"
      },
      "source": [
        "mg0.set_horizon(24)\n",
        "mg1.set_horizon(24)"
      ],
      "execution_count": 12,
      "outputs": []
    },
    {
      "cell_type": "markdown",
      "metadata": {
        "id": "urcnmK9qbK7L"
      },
      "source": [
        "#2. Design of the agent"
      ]
    },
    {
      "cell_type": "markdown",
      "metadata": {
        "id": "p8QDO4oybPuc"
      },
      "source": [
        "##2.1 Action space"
      ]
    },
    {
      "cell_type": "markdown",
      "metadata": {
        "id": "iI6qmKjlbVc8"
      },
      "source": [
        "define the different actions our agent can take in a microgrid environment:\n",
        "\n",
        "- actions_agent()\n",
        "- run(): take dictionary as an input, we return a dictionary of actions related to control_dict."
      ]
    },
    {
      "cell_type": "code",
      "metadata": {
        "colab": {
          "base_uri": "https://localhost:8080/"
        },
        "id": "gb-AETo8bexM",
        "outputId": "9f10f6d5-df7d-43de-d053-deb389b058cb"
      },
      "source": [
        "#to make things simple, the agent can take only one of the 5 actions defined at the full rate of the net_load\n",
        "mg0.get_control_dict() #show the list of action that can be taken"
      ],
      "execution_count": 13,
      "outputs": [
        {
          "output_type": "execute_result",
          "data": {
            "text/plain": [
              "['load',\n",
              " 'pv_consummed',\n",
              " 'pv_curtailed',\n",
              " 'pv',\n",
              " 'battery_charge',\n",
              " 'battery_discharge',\n",
              " 'grid_import',\n",
              " 'grid_export']"
            ]
          },
          "metadata": {},
          "execution_count": 13
        }
      ]
    },
    {
      "cell_type": "markdown",
      "metadata": {
        "id": "Dxwx9ENIbwos"
      },
      "source": [
        "define different actions our agents will take <br>\n",
        "set a new function 'action_agent()'"
      ]
    },
    {
      "cell_type": "code",
      "metadata": {
        "id": "m7fYXJowcE79"
      },
      "source": [
        "#action 0: battery_charge\n",
        "#action 1: battery_discharge\n",
        "#action 2: grid_import\n",
        "#action 3: grid_export\n",
        "\n",
        "def actions_agent(mg0, action):\n",
        " \n",
        "    #initialize the architecture\n",
        "    pv = mg0.pv\n",
        "    load = mg0.load\n",
        "    \n",
        "    #initialize variable\n",
        "    net_load = load - pv\n",
        "    \n",
        "    capa_to_charge = mg0.battery.capa_to_charge\n",
        "    p_charge_max = mg0.battery.p_charge_max\n",
        "    p_charge = max(0,min(-net_load, capa_to_charge, p_charge_max))\n",
        "    \n",
        "    capa_to_discharge = mg0.battery.capa_to_discharge\n",
        "    p_discharge_max = mg0.battery.p_discharge_max\n",
        "    p_discharge = max(0,min(net_load, capa_to_discharge, p_discharge_max))\n",
        "\n",
        "    #change control dictionary based on the different scenarios\n",
        "\n",
        "    #scenario action 0: battery_charge   \n",
        "    #battery charge set to p_charge\n",
        "    if action == 0:\n",
        "        \n",
        "        if p_charge > 0:        \n",
        "          control_dict = {'pv_consummed': min(pv,load),\n",
        "                          'battery_charge': p_charge,\n",
        "                          'battery_discharge': 0,\n",
        "                          'grid_import': 0,\n",
        "                          'grid_export':max(0,pv - min(pv,load) - p_charge)\n",
        "                          }\n",
        "        else:\n",
        "            \n",
        "            control_dict = {'pv_consummed': min(pv,load),\n",
        "                            'battery_charge': net_load,\n",
        "                            'battery_discharge': 0,\n",
        "                            'grid_import': 0,\n",
        "                            'grid_export':max(0,pv - min(pv,load) - p_charge)\n",
        "                           }\n",
        "\n",
        "            \n",
        "    #scenario action 1: battery_discharge      \n",
        "    #battery discharge set to p_discharge\n",
        "    elif action ==1:\n",
        "        \n",
        "        if p_discharge > 0:\n",
        "        \n",
        "            control_dict = {'pv_consummed': min(pv,load),\n",
        "                            'battery_charge': 0,\n",
        "                            'battery_discharge': p_discharge,\n",
        "                            'grid_import': max(0,load - min(pv,load) - p_discharge),\n",
        "                            'grid_export':0\n",
        "                           }\n",
        "        else:\n",
        "            \n",
        "            control_dict = {'pv_consummed': min(pv,load),\n",
        "                            'battery_charge': 0,\n",
        "                            'battery_discharge': net_load,\n",
        "                            'grid_import': max(0,load - min(pv,load) - p_discharge),\n",
        "                            'grid_export':0\n",
        "                           }\n",
        "    #scenario action 2: grid_import\n",
        "        #import the net load into the grid\n",
        "    elif action ==2:\n",
        "        \n",
        "        control_dict = {'pv_consummed': min(pv,load),\n",
        "                        'battery_charge': 0,\n",
        "                        'battery_discharge': 0,\n",
        "                        'grid_import': abs(net_load),\n",
        "                        'grid_export':0\n",
        "                       }\n",
        "\n",
        "    #scenario action 3: grid_export\n",
        "      #export net load out of the grid\n",
        "    elif action == 3:\n",
        "        \n",
        "        control_dict = {'pv_consummed': min(pv,load),\n",
        "                        'battery_charge': 0,\n",
        "                        'battery_discharge': 0,\n",
        "                        'grid_import': 0,\n",
        "                        'grid_export':abs(net_load)\n",
        "                       }\n",
        "    \n",
        "    return control_dict"
      ],
      "execution_count": 14,
      "outputs": []
    },
    {
      "cell_type": "markdown",
      "metadata": {
        "id": "5cw3dEazcVAV"
      },
      "source": [
        "Initialize a Q-table<br>\n",
        "round off the state to reduce the state space"
      ]
    },
    {
      "cell_type": "code",
      "metadata": {
        "id": "lbiB4sYVcbgc"
      },
      "source": [
        "def init_qtable(mg0, nb_action):\n",
        "    #net load is the forecast load - pv\n",
        "    net_load = mg0.forecast_load() - mg0.forecast_pv()\n",
        "\n",
        "    #initialize state and q\n",
        "    state = [] #the states in the q table, the states depends on the action the agent takes\n",
        "    Q = {} \n",
        "\n",
        "    #in range of the minimum net-load and the maximum net-load\n",
        "    for i in range(int(net_load.min()-1),int(net_load.max()+2)):\n",
        "        \n",
        "        #for all battery state of charge level from min to max, round them off and append them to the state\n",
        "        for j in np.arange(round(mg0.battery.soc_min,1),round(mg0.battery.soc_max+0.1,1),0.1):\n",
        "            \n",
        "            j = round(j,1)\n",
        "            state.append((i,j)) \n",
        "\n",
        "    #Initialize Q(s,a) at zero\n",
        "    for s in state:\n",
        "\n",
        "        Q[s] = {}\n",
        "\n",
        "        #for every actions, set the state to 0\n",
        "        for a in range(nb_action):\n",
        "\n",
        "            Q[s][a] = 0\n",
        "\n",
        "    return Q"
      ],
      "execution_count": 15,
      "outputs": []
    },
    {
      "cell_type": "markdown",
      "metadata": {
        "id": "VtV-Ji3CcfOH"
      },
      "source": [
        "##2.2 Exploration strategy: greedy decreasing strategy"
      ]
    },
    {
      "cell_type": "markdown",
      "metadata": {
        "id": "APhr95Incu0X"
      },
      "source": [
        "#2.2.1 Define functions\n",
        "\n",
        "Define a function for the exploration strategy: <br>\n",
        "here we selected the greedy decreasing strategy"
      ]
    },
    {
      "cell_type": "code",
      "metadata": {
        "id": "NQ-AuqixdDmf"
      },
      "source": [
        "def epsilon_decreasing_greedy(action, epsilon, nb_action):\n",
        "  #set p as random\n",
        "  p = np.random.random()\n",
        "  #if p value is less than 1-epsilon, set randomm to 0\n",
        "  if p < (1 - epsilon):\n",
        "      randomm=0\n",
        "      return action, randomm\n",
        "#if p is above 1-epsilon than randomm is true and return the choice of action\n",
        "  else: \n",
        "      randomm=1\n",
        "      return np.random.choice(nb_action), randomm"
      ],
      "execution_count": 16,
      "outputs": []
    },
    {
      "cell_type": "code",
      "metadata": {
        "id": "23tYb78DdGbw"
      },
      "source": [
        "def max_dict(d):\n",
        "\n",
        "    max_key = None\n",
        "    max_val = float('-inf')\n",
        "\n",
        "\n",
        "    for k,v in d.items():\n",
        "\n",
        "        if v > max_val:\n",
        "\n",
        "            max_val = v\n",
        "            max_key = k\n",
        "\n",
        "    return max_key, max_val"
      ],
      "execution_count": 17,
      "outputs": []
    },
    {
      "cell_type": "markdown",
      "metadata": {
        "id": "XQnYtDw3dK1x"
      },
      "source": [
        "define a function to decrease and update my epsilon\n"
      ]
    },
    {
      "cell_type": "markdown",
      "metadata": {
        "id": "ajadhBdtdPeH"
      },
      "source": [
        "Epsilon-decrease function is a greedy strategy, however the epsilon decreases as the exploration goes further. this lead to the agent's behaviour to be very explorative in the beginning and as it progresses, the behaviour becomes more highly exploitative."
      ]
    },
    {
      "cell_type": "code",
      "metadata": {
        "id": "LRnbFi31dQho"
      },
      "source": [
        "def update_epsilon(epsilon):\n",
        "    \n",
        "    epsilon = epsilon - epsilon *0.02\n",
        "    \n",
        "    if epsilon < 0.1:\n",
        "        \n",
        "        epsilon = 0.1\n",
        "    \n",
        "    return epsilon"
      ],
      "execution_count": 18,
      "outputs": []
    },
    {
      "cell_type": "code",
      "metadata": {
        "id": "a1qjk1YsdU7x"
      },
      "source": [
        "def change_name_action(idx):\n",
        "    \n",
        "    #action 0: battery_charge\n",
        "    #action 1: battery_discharge\n",
        "    #action 2: grid_import\n",
        "    #action 3: grid_export\n",
        "    \n",
        "    if idx == 0:\n",
        "        \n",
        "        action_name = \"charge\"\n",
        "    elif idx == 1:\n",
        "        action_name = \"discharge\"\n",
        "    elif idx == 2:\n",
        "        \n",
        "        action_name = \"import\"\n",
        "        \n",
        "    else:\n",
        "        \n",
        "        action_name = \"export\"\n",
        "    \n",
        "    return action_name"
      ],
      "execution_count": 19,
      "outputs": []
    },
    {
      "cell_type": "markdown",
      "metadata": {
        "id": "PE9RawhJdaZB"
      },
      "source": [
        "print welcome function"
      ]
    },
    {
      "cell_type": "code",
      "metadata": {
        "id": "yasRIy16dchQ"
      },
      "source": [
        "def print_welcome(idx):\n",
        "    \n",
        "    if idx == 0:\n",
        "        print(\"------------------------------------\")\n",
        "        print(\"|        WELCOME TO PYMGRID        |\")\n",
        "        print(\"------------------------------------\")\n",
        "    elif idx == 1:\n",
        "        \n",
        "        print(\"t -     STATE  -  ACTION - COST\")\n",
        "        print(\"================================\")"
      ],
      "execution_count": 20,
      "outputs": []
    },
    {
      "cell_type": "markdown",
      "metadata": {
        "id": "ZE3CSojkeeKr"
      },
      "source": [
        "Define an agent function"
      ]
    },
    {
      "cell_type": "code",
      "metadata": {
        "id": "TNO8gJ4Aeguy"
      },
      "source": [
        "def training_Q_Learning(mg,horizon):\n",
        "    \n",
        "    #initialize variables\n",
        "    nb_action = 4\n",
        "    Q = init_qtable(mg,nb_action)\n",
        "    nb_state = len(Q)\n",
        "    nb_episode = 100\n",
        "    alpha = 0.1\n",
        "    epsilon = 0.99\n",
        "    gamma = 0.99\n",
        "    \n",
        "    #initialize\n",
        "    record_cost = []\n",
        "    t0 = time.time()\n",
        "    t = t0\n",
        "    #start algorithm\n",
        "    print_training = \"Training Progressing .   \"\n",
        "    print_welcome(0)\n",
        "    print(\"\\n\")\n",
        "\n",
        "\n",
        "    #iterate through every episode with for loop\n",
        "    for e in range(nb_episode+1): \n",
        "        \n",
        "        #if there is no more episodes left, print the vlue and flush\n",
        "        if e == 0:\n",
        "            value_print=\"\\rEpisode \" + str(e) +\"/\" + str(nb_episode)\n",
        "            sys.stdout.write(value_print)\n",
        "            sys.stdout.flush()\n",
        "        \n",
        "        #if there are still episodes\n",
        "        else:\n",
        "            \n",
        "            now = time.time()\n",
        "            \n",
        "            #when episode is 1, 50, 100,200,300,400,450, 485, or total declared episode -5\n",
        "              #calculate the time difference\n",
        "              #print the total time difference in each episodes\n",
        "            if e == 1 or e == 50 or e == 100 or e == 200 or e == 300 or e == 400  or e == 450  or e == 485 or e == nb_episode-5:\n",
        "                diff_time_t = now - t \n",
        "                total_time = (nb_episode+1) * diff_time_t\n",
        "            #identify current time and calculate the number of time remaining\n",
        "            now = time.time()\n",
        "            diff_time = now - t0\n",
        "            time_remaining = total_time - diff_time\n",
        "            \n",
        "            t = time.time()\n",
        "        \n",
        "        #if episode is the modulus of 10, print training progressing\n",
        "        if e % 10 == 0:\n",
        "        \n",
        "            if print_training == \"Training Progressing .   \":\n",
        "                \n",
        "                print_training = \"Training Progressing ..  \"\n",
        "                \n",
        "            elif print_training == \"Training Progressing ..  \":\n",
        "            \n",
        "                print_training = \"Training Progressing ... \"\n",
        "            \n",
        "            else:\n",
        "                \n",
        "                print_training = \"Training Progressing .   \"\n",
        "        #print the training for each episode\n",
        "        value_print=\"\\r\"+ print_training +\"Episode \" + str(e) +\"/\" + str(nb_episode) \n",
        "        sys.stdout.write(value_print)\n",
        "        sys.stdout.flush()\n",
        "        \n",
        "        # before begin training in each episode the cost for each episode is reset to 0 and reset the microgrid\n",
        "        episode_cost = 0\n",
        "        mg.reset()\n",
        "\n",
        "\n",
        "        #the state consist of the net load and the state of charge of the battery\n",
        "        net_load = round(mg.load - mg.pv)\n",
        "        soc = round(mg.battery.soc,1)\n",
        "        s = (net_load, soc)\n",
        "        \n",
        "\n",
        "        #apply the greedy decreasing strategy \n",
        "        a = max_dict(Q[s])[0] #maximum value in the dictionary\n",
        "        a,randomm = epsilon_decreasing_greedy(a, epsilon, nb_action)\n",
        "        \n",
        "        #horizon is the total number of hours we want our agent to go through\n",
        "        #for i in range (horizon):\n",
        " # /////////////////////////////////////////////////////////////////////////////////BASELINE\\\\\\\\\\\\\\\\\\\\\\\\\\\\\\\\\\\\\\\\\\\\\\\\\\\\\\\\\\\\\\\\\\\\\\\\\\\\\\\\\\\\\\\\\\\\\\\\\\\\\\\\\\\\\\\\\\\\\\\n",
        "\n",
        "          \n",
        "    #       #pick the time when sunrise is high\n",
        "    #       #approximately 7AM to 5PM, this is the approximate peak sunrise hour\n",
        "    #       if i ==7 or i ==8 or i==9 or i ==10 or i==11 or i ==12 or i==13 or i ==14 or i==15 or i ==16 or i==17:\n",
        "    #         action = actions_agent(mg,0) #the action of the agent is to charge only\n",
        "\n",
        "    #         #in every hour aside from the peak sunrise hour, the agent makes its own decision\n",
        "    #       else:\n",
        "    #         action = actions_agent(mg,a) #the action of the agent\n",
        "    #       status = mg.run(action) #the status is based on the action the agent takes in the microgrid\n",
        "    #       r = -mg.get_cost() #reward is subtracted by the cost\n",
        "    #       episode_cost += mg.get_cost() #add cost into the amount of cost in the episode\n",
        "    #       net_load = round(mg.load - mg.pv) #netload is the microgrid load - pv\n",
        "    #       soc = round(mg.battery.soc,1)#state of charge of the battery\n",
        "\n",
        "    #       #the next state, the next action\n",
        "    #       s_ = (net_load, soc) #the state consist of the current net load and the state of charge\n",
        "    #       a_ = max_dict(Q[s_])[0] #maximum value in the dictionary is put inside a\n",
        "    #       if i == horizon-1: #in the last hour of the training\n",
        "    #           Q[s][a] += alpha*(r - Q[s][a]) #calculate the q value \n",
        "    #           #q value = qvalue +alpha *(reward -q-value)\n",
        "    #       # if its still not the last hour\n",
        "    #       else:\n",
        "    #           old_Q = Q[s][a]  \n",
        "    #           target = r + gamma*Q[s_][a_] \n",
        "    #           td_error = target - Q[s][a]\n",
        "    #           Q[s][a] = (1-alpha) * Q[s][a] + alpha * td_error\n",
        "    #       s, a = s_, a_\n",
        "    #     epsilon = update_epsilon(epsilon)\n",
        "    # return Q\n",
        "\n",
        "# # #//////////////////////////////////////////////////////////////////////////////////////////NORMAL\\\\\\\\\\\\\\\\\\\\\\\\\\\\\\\\\\\\\\\\\\\\\\\\\\\\\\\\\\\\\\\\\\\\\\\\\\\\\\\\\\\\\\\\\\\\\\\\\\\\\\\\\\\\\\\\\\\\\\\n",
        "  #horizon is the total number of hours we want our agent to go through\n",
        "        for i in range (horizon):\n",
        "            #in every hour,\n",
        "            action = actions_agent(mg,a) #the action of the agent\n",
        "            status = mg.run(action) #the status is based on the action the agent takes in the microgrid\n",
        "            r = -mg.get_cost() #reward is subtracted by the cost\n",
        "            episode_cost += mg.get_cost() #add cost into the amount of cost in the episode\n",
        "            net_load = round(mg.load - mg.pv) #netload is the microgrid load - pv\n",
        "            soc = round(mg.battery.soc,1)#state of charge of the battery\n",
        "            s_ = (net_load, soc) #the state consist of the current net load and the state of charge\n",
        "            a_ = max_dict(Q[s_])[0] #maximum value in the dictionary is put inside a\n",
        "            if i == horizon-1: #in the last hour of the training\n",
        "                Q[s][a] += alpha*(r - Q[s][a]) #calculate the q value \n",
        "                #q value = qvalue +alpha *(reward -q-value)\n",
        "            # if its still not the last hour\n",
        "            else:\n",
        "                old_Q = Q[s][a]  \n",
        "                target = r + gamma*Q[s_][a_] \n",
        "                td_error = target - Q[s][a]\n",
        "                Q[s][a] = (1-alpha) * Q[s][a] + alpha * td_error\n",
        "            s, a = s_, a_\n",
        "        epsilon = update_epsilon(epsilon)\n",
        "    return Q"
      ],
      "execution_count": 22,
      "outputs": []
    },
    {
      "cell_type": "code",
      "metadata": {
        "id": "UIbKtuyLex4p"
      },
      "source": [
        "def testing_Q_Learning(mg, Q,horizon):\n",
        "    \n",
        "    mg.reset()\n",
        "    net_load = round(mg.load - mg.pv)\n",
        "    soc = round(mg.battery.soc,1)\n",
        "    s = (net_load, soc)\n",
        "    a = max_dict(Q[s])[0]\n",
        "    total_cost = 0\n",
        "    print_welcome(1)\n",
        "    for i in range (horizon):\n",
        "        #pick the time when sunrise is high\n",
        "        #approximately 7AM to 5PM, this is the approximate peak sunrise hour\n",
        "#////////////////////////////////////////////BLIND_OBEDIENCE\\\\\\\\\\\\\\\\\\\\\\\\\\\\\\\\\\\\\\\\\\\\\\\\\\\\\\\\\\\\\\\\\\\\\\\\\\\\\\\\\\\\\\\\\\\\\\\\\\\\\\\\\\\\\\\\\\\\\n",
        "      if i ==7 or i ==8 or i==9 or i ==10 or i==11 or i ==12 or i==13 or i ==14 or i==15 or i ==16 or i==17:\n",
        "          #the action of the agent is to charge only\n",
        "       a=0\n",
        "      action_name = change_name_action(a)\n",
        "      action = actions_agent(mg, a)\n",
        "      status = mg.run(action)\n",
        "      cost = mg.get_cost()\n",
        "      total_cost += cost\n",
        "      if i < 10:\n",
        "          print(i,\" -\",(int(net_load),soc),action_name, round(total_cost,1), \"€\")\n",
        "      else:\n",
        "          print(i,\"-\",(int(net_load),soc),action_name, round(total_cost,1), \"€\")\n",
        "      net_load = round(mg.load - mg.pv)\n",
        "      soc = round(mg.battery.soc,1)\n",
        "      s_ = (net_load, soc)\n",
        "      a_ = max_dict(Q[s_])[0]\n",
        "\n",
        "      s, a = s_, a_\n",
        "\n",
        "        #in every hour aside from the peak sunrise hour, the agent makes its own decision\n",
        "    else:\n",
        "      action_name = change_name_action(a)\n",
        "      action = actions_agent(mg, a)\n",
        "      status = mg.run(action)\n",
        "      cost = mg.get_cost()\n",
        "      total_cost += cost\n",
        "      if i < 10:\n",
        "          print(i,\" -\",(int(net_load),soc),action_name, round(total_cost,1), \"€\")\n",
        "      else:\n",
        "          print(i,\"-\",(int(net_load),soc),action_name, round(total_cost,1), \"€\")\n",
        "      net_load = round(mg.load - mg.pv)\n",
        "      soc = round(mg.battery.soc,1)\n",
        "      s_ = (net_load, soc)\n",
        "      a_ = max_dict(Q[s_])[0]\n",
        "\n",
        "      s, a = s_, a_"
      ],
      "execution_count": 25,
      "outputs": []
    },
    {
      "cell_type": "code",
      "metadata": {
        "id": "AqYZpqaTfHek",
        "colab": {
          "base_uri": "https://localhost:8080/"
        },
        "outputId": "6df9304b-91da-425b-ca5c-38fd2181ff1d"
      },
      "source": [
        "Q1 = training_Q_Learning(mg0,24)  #train microgrid 0 for your chosen number of days"
      ],
      "execution_count": 26,
      "outputs": [
        {
          "output_type": "stream",
          "name": "stdout",
          "text": [
            "------------------------------------\n",
            "|        WELCOME TO PYMGRID        |\n",
            "------------------------------------\n",
            "\n",
            "\n",
            "Training Progressing ... Episode 100/100"
          ]
        }
      ]
    },
    {
      "cell_type": "code",
      "metadata": {
        "id": "Q5Ymu7lakfdw",
        "colab": {
          "base_uri": "https://localhost:8080/"
        },
        "outputId": "65d15354-9a9e-4647-b4c1-a900d839ff23"
      },
      "source": [
        "testing_Q_Learning(mg0,Q1, 24)"
      ],
      "execution_count": 27,
      "outputs": [
        {
          "output_type": "stream",
          "name": "stdout",
          "text": [
            "t -     STATE  -  ACTION - COST\n",
            "================================\n",
            "0  - (146, 0.2) import 34.7 €\n",
            "1  - (146, 0.2) import 69.4 €\n",
            "2  - (146, 0.2) import 104.2 €\n",
            "3  - (146, 0.2) import 139.0 €\n",
            "4  - (146, 0.2) import 173.6 €\n",
            "5  - (156, 0.2) discharge 210.2 €\n",
            "6  - (159, 0.2) import 247.4 €\n",
            "7  - (126, 0.2) charge 2764.6 €\n",
            "8  - (78, 0.3) charge 4327.8 €\n",
            "9  - (43, 0.4) charge 5189.2 €\n",
            "10 - (15, 0.4) charge 5490.1 €\n",
            "11 - (-107, 0.4) charge 6564.9 €\n",
            "12 - (-161, 0.6) charge 8174.6 €\n",
            "13 - (-104, 0.7) charge 9219.7 €\n",
            "14 - (-69, 0.8) charge 9910.2 €\n",
            "15 - (-21, 0.9) charge 10119.7 €\n",
            "16 - (78, 0.9) charge 11672.8 €\n",
            "17 - (139, 1.0) charge 13436.9 €\n",
            "18 - (146, 1.0) discharge 13439.8 €\n",
            "19 - (147, 0.8) discharge 13442.7 €\n",
            "20 - (146, 0.7) import 13487.4 €\n",
            "21 - (146, 0.7) import 13521.9 €\n",
            "22 - (146, 0.7) import 13556.4 €\n",
            "23 - (148, 0.7) discharge 13559.3 €\n",
            "23 - (146, 0.5) discharge 13562.2 €\n"
          ]
        }
      ]
    }
  ]
}